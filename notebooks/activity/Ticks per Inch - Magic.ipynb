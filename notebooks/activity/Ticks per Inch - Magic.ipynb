{
 "cells": [
  {
   "cell_type": "code",
   "execution_count": null,
   "metadata": {},
   "outputs": [],
   "source": [
    "import psycopg2 as pg\n",
    "import pandas as pd\n",
    "%matplotlib notebook"
   ]
  },
  {
   "cell_type": "code",
   "execution_count": null,
   "metadata": {},
   "outputs": [],
   "source": [
    "connection = pg.connect(\"dbname=jeff user=jeff\")"
   ]
  },
  {
   "cell_type": "code",
   "execution_count": null,
   "metadata": {},
   "outputs": [],
   "source": [
    "query = \"\"\"\n",
    "SELECT id, name, profile_ticks, actual_ticks, actual_distance,\n",
    "meta->'direction' AS direction\n",
    "FROM motion_activity\n",
    "WHERE actual_distance > 0 AND meta @> '{\"tags\": [\"magic\"]}'\n",
    "\"\"\"\n",
    "\n",
    "df = pd.read_sql_query(query, index_col='id', con=connection)\n",
    "df['error'] = df['actual_ticks'] - df['profile_ticks']\n",
    "df['tpi'] = df['actual_ticks'] / df['actual_distance']"
   ]
  },
  {
   "cell_type": "code",
   "execution_count": null,
   "metadata": {},
   "outputs": [],
   "source": [
    "df"
   ]
  },
  {
   "cell_type": "code",
   "execution_count": null,
   "metadata": {},
   "outputs": [],
   "source": [
    "df.loc[df['direction'] == '0.0'].describe()"
   ]
  },
  {
   "cell_type": "code",
   "execution_count": null,
   "metadata": {},
   "outputs": [],
   "source": [
    "df.loc[df['direction'] == '180.0'].describe()"
   ]
  },
  {
   "cell_type": "code",
   "execution_count": null,
   "metadata": {},
   "outputs": [],
   "source": [
    "df.boxplot(column=['tpi'], by=['direction'])"
   ]
  },
  {
   "cell_type": "code",
   "execution_count": null,
   "metadata": {},
   "outputs": [],
   "source": [
    "mean_f = df.loc[df['direction'] == '0.0', 'tpi'].mean()\n",
    "mean_r = df.loc[df['direction'] == '180.0', 'tpi'].mean()\n",
    "\n",
    "print(\"mean (f) = {:f}\".format(mean_f))\n",
    "print(\"mean (r) = {:f}\".format(mean_r))\n",
    "print(\"ratio = {:f}\".format(mean_r/mean_f))"
   ]
  },
  {
   "cell_type": "code",
   "execution_count": null,
   "metadata": {},
   "outputs": [],
   "source": []
  }
 ],
 "metadata": {
  "kernelspec": {
   "display_name": "Python 3",
   "language": "python",
   "name": "python3"
  },
  "language_info": {
   "codemirror_mode": {
    "name": "ipython",
    "version": 3
   },
   "file_extension": ".py",
   "mimetype": "text/x-python",
   "name": "python",
   "nbconvert_exporter": "python",
   "pygments_lexer": "ipython3",
   "version": "3.7.0"
  }
 },
 "nbformat": 4,
 "nbformat_minor": 2
}
