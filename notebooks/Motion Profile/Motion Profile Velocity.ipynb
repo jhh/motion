{
 "cells": [
  {
   "cell_type": "markdown",
   "metadata": {},
   "source": [
    "# Motion Profile Velocity\n",
    "Plot of motion profile velocity, setpoint velocity with distance error P, actual velocity from wheel zero."
   ]
  },
  {
   "cell_type": "code",
   "execution_count": null,
   "metadata": {},
   "outputs": [],
   "source": [
    "import psycopg2 as pg\n",
    "import pandas as pd\n",
    "import matplotlib.pyplot as plt\n",
    "%matplotlib inline"
   ]
  },
  {
   "cell_type": "code",
   "execution_count": null,
   "metadata": {},
   "outputs": [],
   "source": [
    "connection = pg.connect(\"dbname=jeff user=jeff\")"
   ]
  },
  {
   "cell_type": "code",
   "execution_count": null,
   "metadata": {},
   "outputs": [],
   "source": [
    "query = \"\"\"\n",
    "SELECT t.millis, u.*\n",
    "FROM tc_activity a, tc_trace t, unnest(a.trace_measures, t.data) AS u(measure, value)\n",
    "WHERE a.id = t.activity_id AND a.id = 149;\n",
    "\"\"\"\n",
    "\n",
    "trace_df = pd.read_sql(query, con=connection)"
   ]
  },
  {
   "cell_type": "code",
   "execution_count": null,
   "metadata": {},
   "outputs": [],
   "source": [
    "vel_df = trace_df.pivot(index='millis', columns='measure', values='value')\n",
    "\n",
    "vel_df['actual_vel'] = vel_df['actual_vel'].abs()\n",
    "vel_df['setpoint_vel'] = vel_df['setpoint_vel'] / 10.0\n",
    "vel_df['profile_vel'] = vel_df['profile_vel'] / 10.0\n",
    "vel_df['ticks_error'] = vel_df['actual_ticks'] - vel_df['profile_ticks']"
   ]
  },
  {
   "cell_type": "code",
   "execution_count": null,
   "metadata": {},
   "outputs": [],
   "source": [
    "grid=False\n",
    "fig, (vel_ax, ticks_ax) = plt.subplots(nrows=2, ncols=1, sharex=True, figsize=(11, 11))\n",
    "vel_ax.set(title='Velocity', ylabel='ticks/100ms')\n",
    "ticks_ax.set(title='Distance Error', ylabel='ticks')\n",
    "vel_df[['profile_vel', 'setpoint_vel', 'actual_vel']].plot(ax=vel_ax, grid=grid)\n",
    "vel_df[['ticks_error']].plot(ax=ticks_ax, grid=grid, legend=False)"
   ]
  },
  {
   "cell_type": "code",
   "execution_count": null,
   "metadata": {},
   "outputs": [],
   "source": []
  }
 ],
 "metadata": {
  "kernelspec": {
   "display_name": "Python 3",
   "language": "python",
   "name": "python3"
  },
  "language_info": {
   "codemirror_mode": {
    "name": "ipython",
    "version": 3
   },
   "file_extension": ".py",
   "mimetype": "text/x-python",
   "name": "python",
   "nbconvert_exporter": "python",
   "pygments_lexer": "ipython3",
   "version": "3.7.1"
  }
 },
 "nbformat": 4,
 "nbformat_minor": 2
}
