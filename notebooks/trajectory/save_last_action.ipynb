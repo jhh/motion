{
 "metadata": {
  "language_info": {
   "codemirror_mode": {
    "name": "ipython",
    "version": 3
   },
   "file_extension": ".py",
   "mimetype": "text/x-python",
   "name": "python",
   "nbconvert_exporter": "python",
   "pygments_lexer": "ipython3",
   "version": "3.9.4"
  },
  "orig_nbformat": 2,
  "kernelspec": {
   "name": "python394jvsc74a57bd0221d11203f0aac0fde7387cc1b53749461adba023a7067f3d4c0b6e8ddeeb650",
   "display_name": "Python 3.9.4 64-bit ('motion-9oQWEAcl-py3.9': venv)"
  }
 },
 "nbformat": 4,
 "nbformat_minor": 2,
 "cells": [
  {
   "cell_type": "code",
   "execution_count": 1,
   "metadata": {},
   "outputs": [],
   "source": [
    "from keeper import Action"
   ]
  },
  {
   "cell_type": "code",
   "execution_count": 2,
   "metadata": {},
   "outputs": [
    {
     "output_type": "stream",
     "name": "stdout",
     "text": [
      "Action:    Trajectory Testing (id: 9)\nDescription: 2.0m x-direction trajectory\nVersion:     a30f0b6\nCreated At:  2021-05-03 15:39:46.877000-04:00\n"
     ]
    }
   ],
   "source": [
    "url = \"http://localhost.proxyman.io:8000/last_action/\"\n",
    "action = Action(url=url)\n",
    "action.dump()\n",
    "print(f\"Action:    {action.name} (id: {action.id})\")\n",
    "print(f\"Description: {action.description}\")\n",
    "print(f\"Version:     {action.version}\")\n",
    "print(f\"Created At:  {action.created_at}\")"
   ]
  }
 ]
}