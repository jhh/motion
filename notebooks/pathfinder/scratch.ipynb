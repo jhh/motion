{
 "cells": [
  {
   "cell_type": "markdown",
   "metadata": {},
   "source": [
    "## Relative Computing Speed\n",
    "\n",
    "Cortex-A9 2.5 DMIPS/Mhz [wikipedia](https://en.wikipedia.org/wiki/List_of_ARM_microarchitectures)\n",
    "\n",
    "roboRIO processor speed 667 MHz\n",
    "\n",
    "[The Infinite Space Between Words](https://blog.codinghorror.com/the-infinite-space-between-words/)"
   ]
  },
  {
   "cell_type": "code",
   "execution_count": null,
   "metadata": {},
   "outputs": [],
   "source": [
    "dmips = 2.5 * 667\n",
    "inst = 1 / (dmips * 1e6) # sec\n",
    "inst * 1e9 # nanosec"
   ]
  },
  {
   "cell_type": "code",
   "execution_count": null,
   "metadata": {},
   "outputs": [],
   "source": []
  }
 ],
 "metadata": {
  "kernelspec": {
   "display_name": "Python 3",
   "language": "python",
   "name": "python3"
  },
  "language_info": {
   "codemirror_mode": {
    "name": "ipython",
    "version": 3
   },
   "file_extension": ".py",
   "mimetype": "text/x-python",
   "name": "python",
   "nbconvert_exporter": "python",
   "pygments_lexer": "ipython3",
   "version": "3.6.5"
  }
 },
 "nbformat": 4,
 "nbformat_minor": 2
}
