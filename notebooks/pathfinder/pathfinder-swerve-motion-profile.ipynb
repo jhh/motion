{
 "cells": [
  {
   "cell_type": "code",
   "execution_count": null,
   "metadata": {},
   "outputs": [],
   "source": [
    "import pandas as pd\n",
    "import numpy as np\n",
    "import json\n",
    "import toml\n",
    "import math\n",
    "import matplotlib.pyplot as plt\n",
    "import subprocess\n",
    "%matplotlib notebook"
   ]
  },
  {
   "cell_type": "markdown",
   "metadata": {},
   "source": [
    "# Pathfinder Swerve Path Motion Profile Post Processing\n",
    "This notebook is testing our post-processing of the trajectory segment array to modify the cruise speed for portions of a path in order to handle sharp corners better.\n",
    "\n",
    "This uses our Java robot code and the [Pathfinder](https://github.com/JacisNonsense/Pathfinder) library to output trajectory points to a `.csv` file we use to plot.\n",
    "\n",
    "The velocity and headings for each segment is transformed into a `forward` and `strafe` input to the swerve drive.\n",
    "\n",
    "Parameters are:\n",
    "\n",
    "- `dt` = iteration time, loop period (ms)\n",
    "- `v_max` = max velocity (ft/sec)\n",
    "- `a_max` = max acceleration (ft/sec/sec)\n",
    "- `j_max` = max jerk (ft/sec/sec/sec)\n",
    "- `waypoints` = x, y, and exit angle (degrees) \n"
   ]
  },
  {
   "cell_type": "code",
   "execution_count": null,
   "metadata": {},
   "outputs": [],
   "source": [
    "# drive forward down field\n",
    "toml_str = \"\"\"\n",
    "waypoints = [\n",
    "  {x = 0.0, y = 0.0, angle = 0.0},\n",
    "  {x = 10.0, y = 0.0, angle = 0.0},\n",
    "\n",
    "]\n",
    "profile = [\n",
    "  {start = 2.0, end = 3.0, velocity = 1.0 }\n",
    "]\n",
    "fit              = \"HERMITE_CUBIC\"\n",
    "sample_count     = 20_000\n",
    "dt               = 0.05  # sec\n",
    "max_velocity     = 1.7   # m/sec\n",
    "max_acceleration = 2.0   # m/sec/sec\n",
    "max_jerk         = 60.0  # m/sec/sec/sec\n",
    "\"\"\""
   ]
  },
  {
   "cell_type": "code",
   "execution_count": null,
   "metadata": {},
   "outputs": [],
   "source": [
    "# prereq: run 'gradle install' in top-level dir\n",
    "process = subprocess.run(\n",
    "    \"MOTION_OPTS=-Djava.library.path={0}/lib {0}/bin/motion '{1}'\".format(\n",
    "        \"../build/install/motion\",\n",
    "        json.dumps({\"pathfinder\": {\"toml\": toml_str}})),\n",
    "    shell=True)\n",
    "\n",
    "df = pd.read_csv(\"data/trajectory.csv\")\n",
    "path = toml.loads(toml_str)\n",
    "wp = pd.DataFrame(path['waypoints'])"
   ]
  },
  {
   "cell_type": "code",
   "execution_count": null,
   "metadata": {},
   "outputs": [],
   "source": [
    "df['heading_deg'] = df['heading'].apply(math.degrees)\n",
    "df['velocity_normalized'] = df['velocity'] / df['velocity'].max()\n",
    "df['forward'] = df['heading'].apply(math.cos) * df['velocity_normalized']\n",
    "df['strafe'] = -df['heading'].apply(math.sin) * df['velocity_normalized']\n",
    "\n",
    "df.loc[:,['velocity', 'acceleration']].plot()\n",
    "plt.grid(True, color='lightgray', linestyle='--', linewidth=0.6)\n",
    "plt.xlabel(\"Time (ms)\")\n",
    "l = plt.legend([\"Velocity ($m/sec$)\", \"Acceleration ($m/sec^2$)\"])"
   ]
  },
  {
   "cell_type": "code",
   "execution_count": null,
   "metadata": {},
   "outputs": [],
   "source": [
    "df[['heading_deg', 'velocity', 'acceleration', 'velocity_normalized', 'forward', 'strafe']]"
   ]
  },
  {
   "cell_type": "code",
   "execution_count": null,
   "metadata": {},
   "outputs": [],
   "source": []
  }
 ],
 "metadata": {
  "kernelspec": {
   "display_name": "Python 3",
   "language": "python",
   "name": "python3"
  },
  "language_info": {
   "codemirror_mode": {
    "name": "ipython",
    "version": 3
   },
   "file_extension": ".py",
   "mimetype": "text/x-python",
   "name": "python",
   "nbconvert_exporter": "python",
   "pygments_lexer": "ipython3",
   "version": "3.6.4"
  }
 },
 "nbformat": 4,
 "nbformat_minor": 2
}
