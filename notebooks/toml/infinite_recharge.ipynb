{
 "cells": [
  {
   "cell_type": "markdown",
   "id": "db31f750",
   "metadata": {},
   "source": [
    "# Infinite Recharge"
   ]
  },
  {
   "cell_type": "code",
   "execution_count": 28,
   "id": "9bbdfdc1",
   "metadata": {},
   "outputs": [],
   "source": [
    "import tomli\n",
    "import matplotlib.pyplot as plt\n",
    "from pathlib import Path\n",
    "from wpimath.geometry import Pose2d, Rotation2d, Translation2d\n",
    "from wpimath.trajectory import TrajectoryConfig, TrajectoryGenerator\n",
    "plt.rcParams[\"figure.figsize\"] = (16, 9)"
   ]
  },
  {
   "cell_type": "code",
   "execution_count": 29,
   "id": "aaebe5e2",
   "metadata": {},
   "outputs": [],
   "source": [
    "PATHS_DIR = Path(\"../../../../strykeforce/infiniterecharge/src/main/deploy/paths/\")"
   ]
  },
  {
   "cell_type": "code",
   "execution_count": 38,
   "id": "c91aed54",
   "metadata": {},
   "outputs": [],
   "source": [
    "def plot_trajectory(trajectory_toml, fig=None, ax=None):\n",
    "    if fig is None:\n",
    "        fig, ax = plt.subplots()\n",
    "    \n",
    "    pose_toml = trajectory_toml[\"start_pose\"]\n",
    "    start_pose = Pose2d(pose_toml[\"x\"], pose_toml[\"y\"], Rotation2d.fromDegrees(pose_toml[\"angle\"]))\n",
    "\n",
    "    pose_toml = trajectory_toml[\"end_pose\"]\n",
    "    end_pose = Pose2d(pose_toml[\"x\"], pose_toml[\"y\"], Rotation2d.fromDegrees(pose_toml[\"angle\"]))\n",
    "#     print(trajectory_toml)\n",
    "\n",
    "    waypoints = []\n",
    "    for point in trajectory_toml[\"internal_points\"]:\n",
    "        waypoints.append(Translation2d(point[\"x\"], point[\"y\"]))\n",
    "\n",
    "    trajectory_config = TrajectoryConfig(trajectory_toml[\"max_velocity\"], trajectory_toml[\"max_acceleration\"])\n",
    "    trajectory_config.setReversed(trajectory_toml[\"is_reversed\"])\n",
    "    trajectory_config.setStartVelocity(trajectory_toml[\"start_velocity\"])\n",
    "    trajectory_config.setEndVelocity(trajectory_toml[\"end_velocity\"])\n",
    "\n",
    "    target_yaw = Rotation2d.fromDegrees(0)\n",
    "\n",
    "    trajectory = TrajectoryGenerator.generateTrajectory(start_pose, waypoints, end_pose, trajectory_config)\n",
    "  \n",
    "    sampled_states = []\n",
    "    states = trajectory.states()\n",
    "\n",
    "    for i in range(0, len(states), 8):\n",
    "        sampled_states.append(states[i])\n",
    "\n",
    "    plt.xlim(-6.0, 0.5)\n",
    "    plt.ylim(-1.0, 1.0)\n",
    "        \n",
    "    ax.quiver(end_pose.X(),\n",
    "              end_pose.Y(),\n",
    "              target_yaw.cos(),\n",
    "              target_yaw.sin(),\n",
    "              angles=\"xy\",\n",
    "              scale_units=\"xy\",\n",
    "              alpha=1,\n",
    "              scale=5\n",
    "             )\n",
    "    \n",
    "    ax.scatter(\n",
    "        [s.pose.X() for s in trajectory.states()],\n",
    "        [s.pose.Y() for s in trajectory.states()],\n",
    "        alpha=0.5,\n",
    "    )\n",
    "\n",
    "    ax.quiver(\n",
    "            [s.pose.X() for s in sampled_states],\n",
    "            [s.pose.Y() for s in sampled_states],\n",
    "            [s.velocity * s.pose.rotation().cos() for s in sampled_states],\n",
    "            [s.velocity * s.pose.rotation().sin() for s in sampled_states],\n",
    "            angles=\"xy\",\n",
    "            scale_units=\"xy\",\n",
    "            scale=4,\n",
    "            color='r',\n",
    "            width=0.005,\n",
    "            alpha=0.35\n",
    "        )\n",
    "\n",
    "    ax.set_aspect(\"equal\", \"box\")\n",
    "    plt.savefig(\"trajectory.png\")"
   ]
  },
  {
   "cell_type": "code",
   "execution_count": 39,
   "id": "263040d9",
   "metadata": {
    "scrolled": false
   },
   "outputs": [
    {
     "data": {
      "image/png": "[encoded data removed]",
      "text/plain": [
       "<Figure size 1152x648 with 1 Axes>"
      ]
     },
     "metadata": {
      "needs_background": "light"
     },
     "output_type": "display_data"
    }
   ],
   "source": [
    "trajectories = [\"TrenchPickupPath\", \"TrenchReturnPath\"]\n",
    "# trajectories = [\"TrenchPickupPath\"]\n",
    "fig, ax = plt.subplots()\n",
    "for traj in trajectories:\n",
    "    trajectory_file = PATHS_DIR / Path(f\"{traj}.toml\")\n",
    "    trajectory_toml = {}\n",
    "    with trajectory_file.open(mode=\"rb\") as f:\n",
    "        trajectory_toml = tomli.load(f)\n",
    "    plot_trajectory(trajectory_toml, fig, ax)\n"
   ]
  },
  {
   "cell_type": "code",
   "execution_count": null,
   "id": "d5334c72",
   "metadata": {},
   "outputs": [],
   "source": []
  }
 ],
 "metadata": {
  "kernelspec": {
   "display_name": "Python 3 (ipykernel)",
   "language": "python",
   "name": "python3"
  },
  "language_info": {
   "codemirror_mode": {
    "name": "ipython",
    "version": 3
   },
   "file_extension": ".py",
   "mimetype": "text/x-python",
   "name": "python",
   "nbconvert_exporter": "python",
   "pygments_lexer": "ipython3",
   "version": "3.10.3"
  }
 },
 "nbformat": 4,
 "nbformat_minor": 5
}
