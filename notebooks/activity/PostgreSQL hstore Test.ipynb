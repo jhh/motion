{
 "cells": [
  {
   "cell_type": "code",
   "execution_count": null,
   "metadata": {},
   "outputs": [],
   "source": [
    "import psycopg2 as pg\n",
    "import pandas\n",
    "%matplotlib notebook"
   ]
  },
  {
   "cell_type": "code",
   "execution_count": null,
   "metadata": {},
   "outputs": [],
   "source": [
    "connection = pg.connect(\"dbname=jeff user=jeff\")"
   ]
  },
  {
   "cell_type": "code",
   "execution_count": null,
   "metadata": {},
   "outputs": [],
   "source": [
    "direction = '%'\n",
    "wheel = '%'\n",
    "\n",
    "df = pandas.read_sql_query(\"SELECT id, name, profile_velocity, profile_distance, actual_distance, \" +\n",
    "                           \"meta -> 'direction' AS direction, \" +\n",
    "                           \"meta -> 'wheel' AS wheel \" +\n",
    "                           \"FROM motion_activity \" +\n",
    "                           \"WHERE meta -> 'direction' LIKE %(direction)s \" +\n",
    "                           \"AND meta -> 'wheel' LIKE %(wheel)s\",\n",
    "                           params={'direction': direction, 'wheel': wheel},\n",
    "                           index_col='id', con=connection)\n",
    "df"
   ]
  },
  {
   "cell_type": "code",
   "execution_count": null,
   "metadata": {},
   "outputs": [],
   "source": []
  }
 ],
 "metadata": {
  "kernelspec": {
   "display_name": "Python 3",
   "language": "python",
   "name": "python3"
  },
  "language_info": {
   "codemirror_mode": {
    "name": "ipython",
    "version": 3
   },
   "file_extension": ".py",
   "mimetype": "text/x-python",
   "name": "python",
   "nbconvert_exporter": "python",
   "pygments_lexer": "ipython3",
   "version": "3.7.0"
  }
 },
 "nbformat": 4,
 "nbformat_minor": 2
}
