{
 "cells": [
  {
   "cell_type": "markdown",
   "metadata": {},
   "source": [
    "# Testing PostgreSQL Arrays"
   ]
  },
  {
   "cell_type": "code",
   "execution_count": null,
   "metadata": {},
   "outputs": [],
   "source": [
    "import psycopg2 as pg\n",
    "import pandas as pd\n",
    "%matplotlib notebook"
   ]
  },
  {
   "cell_type": "code",
   "execution_count": null,
   "metadata": {},
   "outputs": [],
   "source": [
    "connection = pg.connect(\"dbname=jeff user=jeff\")"
   ]
  },
  {
   "cell_type": "markdown",
   "metadata": {},
   "source": [
    "## Display Activities\n",
    "Create a dataframe with one row per activity."
   ]
  },
  {
   "cell_type": "code",
   "execution_count": null,
   "metadata": {},
   "outputs": [],
   "source": [
    "query = \"\"\"\n",
    "SELECT id, name, timestamp, meta->'direction' AS direction,\n",
    "meta->'robot' AS robot, meta->'wheel' AS wheel\n",
    "FROM tc_activity\n",
    "\"\"\"\n",
    "\n",
    "activity = pd.read_sql(query, index_col='id', con=connection)\n",
    "activity"
   ]
  },
  {
   "cell_type": "markdown",
   "metadata": {},
   "source": [
    "## Display Activity Data\n",
    "Select and pivot summary data for an activity."
   ]
  },
  {
   "cell_type": "code",
   "execution_count": null,
   "metadata": {},
   "outputs": [],
   "source": [
    "query = \"\"\"\n",
    "SELECT id, name, timestamp, measure, value\n",
    "FROM tc_activity, unnest(activity_measures, data) AS u(measure, value);\n",
    "\"\"\"\n",
    "\n",
    "activity_data = pd.read_sql(query, con=connection)\n",
    "activity_data"
   ]
  },
  {
   "cell_type": "code",
   "execution_count": null,
   "metadata": {},
   "outputs": [],
   "source": [
    "pivot = activity_data.pivot(index='id', columns='measure', values='value')\n",
    "pd.merge(activity, pivot, on='id')"
   ]
  },
  {
   "cell_type": "markdown",
   "metadata": {},
   "source": [
    "## Trace Data\n",
    "Select and pivot the trace data for most recent activity."
   ]
  },
  {
   "cell_type": "code",
   "execution_count": null,
   "metadata": {},
   "outputs": [],
   "source": [
    "query = \"\"\"\n",
    "SELECT t.millis, u.*\n",
    "FROM tc_activity a, tc_trace t, unnest(a.trace_measures, t.data) AS u(measure, value)\n",
    "WHERE a.id = t.activity_id AND a.timestamp = (SELECT max(timestamp) FROM tc_activity);\n",
    "\"\"\"\n",
    "\n",
    "trace_df = pd.read_sql(query, con=connection)\n",
    "trace_df"
   ]
  },
  {
   "cell_type": "code",
   "execution_count": null,
   "metadata": {},
   "outputs": [],
   "source": [
    "trace_df.pivot(index='millis', columns='measure', values='value')"
   ]
  },
  {
   "cell_type": "markdown",
   "metadata": {},
   "source": [
    "## Trace Data\n",
    "Select and pivot the trace data for activity with specific id."
   ]
  },
  {
   "cell_type": "code",
   "execution_count": null,
   "metadata": {},
   "outputs": [],
   "source": [
    "id = 9\n",
    "\n",
    "query = \"\"\"\n",
    "SELECT a.id, t.millis, u.*\n",
    "FROM tc_activity a, tc_trace t, unnest(a.trace_measures, t.data) AS u(measure, value)\n",
    "WHERE a.id = t.activity_id AND a.id = %s;\n",
    "\"\"\"\n",
    "\n",
    "trace_df = pd.read_sql(query, con=connection, params=[id])\n",
    "trace_df.pivot(index='millis', columns='measure', values='value')"
   ]
  },
  {
   "cell_type": "code",
   "execution_count": null,
   "metadata": {},
   "outputs": [],
   "source": []
  },
  {
   "cell_type": "code",
   "execution_count": null,
   "metadata": {},
   "outputs": [],
   "source": []
  }
 ],
 "metadata": {
  "kernelspec": {
   "display_name": "Python 3",
   "language": "python",
   "name": "python3"
  },
  "language_info": {
   "codemirror_mode": {
    "name": "ipython",
    "version": 3
   },
   "file_extension": ".py",
   "mimetype": "text/x-python",
   "name": "python",
   "nbconvert_exporter": "python",
   "pygments_lexer": "ipython3",
   "version": "3.7.0"
  }
 },
 "nbformat": 4,
 "nbformat_minor": 2
}
