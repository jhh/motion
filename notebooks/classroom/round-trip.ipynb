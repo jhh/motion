{
 "cells": [
  {
   "cell_type": "markdown",
   "metadata": {},
   "source": [
    "# Trajectory Round Trip\n",
    "\n",
    "This example exercises a significant portion of the classes involved in autonomous pathfinding. The \"round trip\" consists of:\n",
    "\n",
    "1. Calculate desired trajectory. This example drives 3 meters down the field over 5.79 seconds and has 133 trajectory points (states).\n",
    "2. Use trajectory states to calculate swerve module speed and angle for each time period using *inverse kinematics*. A significant parameter is the `Kp` used in correcting the `X` and `Y` velocities, based on the error between the trajectory and odometry field position for each time period.\n",
    "3. Pass trajectory states to odometry which recreates the path from the swerve module speeds and angles using *forward kinematics* and the *pose exponential*, which is solving a differential equation moving the pose forward in time.\n",
    "4. Plot and compare the original trajectory path to the final path created by odometry.\n"
   ]
  },
  {
   "cell_type": "code",
   "execution_count": 1,
   "metadata": {},
   "outputs": [],
   "source": [
    "%matplotlib inline\n",
    "import matplotlib.pyplot as plt\n",
    "from simple_pid import PID\n",
    "from wpimath.geometry import Pose2d, Rotation2d, Translation2d\n",
    "from wpimath.kinematics import (\n",
    "    ChassisSpeeds,\n",
    "    SwerveDrive4Kinematics,\n",
    "    SwerveDrive4Odometry,\n",
    ")\n",
    "from wpimath.trajectory import TrajectoryConfig, TrajectoryGenerator\n",
    "from wpimath.trajectory.constraint import CentripetalAccelerationConstraint\n",
    "\n",
    "from motion import HolonomicDriveController, plot_trajectories"
   ]
  },
  {
   "cell_type": "code",
   "execution_count": 2,
   "metadata": {},
   "outputs": [],
   "source": [
    "config = TrajectoryConfig(maxVelocity=1, maxAcceleration=2)\n",
    "centripetal_constraint = CentripetalAccelerationConstraint(maxCentripetalAcceleration=2)\n",
    "config.addConstraint(centripetal_constraint)\n",
    "\n",
    "initial_pose = Pose2d(x=0, y=0, rotation=Rotation2d(0))\n",
    "waypoints = [Translation2d(x=1, y=1), Translation2d(x=2, y=-1)]\n",
    "final_pose = Pose2d(x=3, y=0, rotation=Rotation2d(0))\n",
    "\n",
    "trajectory = TrajectoryGenerator.generateTrajectory(\n",
    "    start=initial_pose, interiorWaypoints=waypoints, end=final_pose, config=config\n",
    ")"
   ]
  },
  {
   "cell_type": "markdown",
   "metadata": {},
   "source": [
    "## Swerve Drive Kinematics and Odometry\n",
    "\n",
    "Set up the [`SwerveDriveKinematics`](https://first.wpi.edu/wpilib/allwpilib/docs/release/java/edu/wpi/first/wpilibj/kinematics/SwerveDriveKinematics.html) and [`SwerveDriveOdometry`](https://first.wpi.edu/wpilib/allwpilib/docs/release/java/edu/wpi/first/wpilibj/kinematics/SwerveDriveOdometry.html) classes."
   ]
  },
  {
   "cell_type": "code",
   "execution_count": 3,
   "metadata": {},
   "outputs": [],
   "source": [
    "fl_loc = Translation2d(0.3, 0.3)\n",
    "fr_loc = Translation2d(0.3, -0.3)\n",
    "rl_loc = Translation2d(-0.3, 0.3)\n",
    "rr_loc = Translation2d(-0.3, -0.3)\n",
    "\n",
    "kinematics = SwerveDrive4Kinematics(fl_loc, fr_loc, rl_loc, rr_loc)\n",
    "odometry = SwerveDrive4Odometry(kinematics, Rotation2d(), initial_pose)"
   ]
  },
  {
   "cell_type": "markdown",
   "metadata": {},
   "source": [
    "## Simulate Driving\n",
    "\n",
    "Loop over the generated trajectory and have the mock `HolonomicDriveController` calculate an error-corrected [`ChassisSpeeds`](https://first.wpi.edu/wpilib/allwpilib/docs/release/java/edu/wpi/first/wpilibj/kinematics/ChassisSpeeds.html) for each  [`TrajectoryState`](https://first.wpi.edu/wpilib/allwpilib/docs/release/java/edu/wpi/first/wpilibj/trajectory/Trajectory.State.html).\n",
    "\n",
    "`SwerveDriveKinematics` then calculates a [`SwerveModuleState`](https://first.wpi.edu/wpilib/allwpilib/docs/release/java/edu/wpi/first/wpilibj/kinematics/SwerveModuleState.html) for each wheel. Update the `SwerveDriveOdometry` position with the module states (speed and angle)."
   ]
  },
  {
   "cell_type": "code",
   "execution_count": 8,
   "metadata": {},
   "outputs": [],
   "source": [
    "fl_loc = Translation2d(0.25, 0.25)\n",
    "fr_loc = Translation2d(0.25, -0.25)\n",
    "rl_loc = Translation2d(-0.25, 0.25)\n",
    "rr_loc = Translation2d(-0.25, -0.25)\n",
    "\n",
    "kinematics = SwerveDrive4Kinematics(fl_loc, fr_loc, rl_loc, rr_loc)\n",
    "odometry = SwerveDrive4Odometry(kinematics, Rotation2d(), initial_pose)\n",
    "\n",
    "Kp = 10\n",
    "controller = HolonomicDriveController(\n",
    "    pid_x=PID(Kp=Kp, sample_time=None), pid_y=PID(Kp=Kp, sample_time=None)\n",
    ")\n",
    "odometry_poses = []\n",
    "holonomic_speeds = []\n",
    "\n",
    "for state in trajectory.states():\n",
    "    speeds = controller.calculate(odometry.getPose(), state)\n",
    "    holonomic_speeds.append(speeds)\n",
    "\n",
    "    module_states = kinematics.toSwerveModuleStates(speeds)\n",
    "\n",
    "    odometry_poses.append(odometry.getPose())\n",
    "\n",
    "    odometry.updateWithTime(\n",
    "        state.t,\n",
    "        Rotation2d(),\n",
    "        module_states[0],\n",
    "        module_states[1],\n",
    "        module_states[2],\n",
    "        module_states[3],\n",
    "    )"
   ]
  },
  {
   "cell_type": "markdown",
   "metadata": {},
   "source": [
    "## Results\n",
    "\n",
    "Plot to compare original trajectory and odometry calculated results."
   ]
  },
  {
   "cell_type": "code",
   "execution_count": 9,
   "metadata": {},
   "outputs": [
    {
     "data": {
      "image/png": "[encoded data removed]",
      "text/plain": [
       "<Figure size 432x288 with 1 Axes>"
      ]
     },
     "metadata": {
      "needs_background": "light"
     },
     "output_type": "display_data"
    }
   ],
   "source": [
    "plot_trajectories(holonomic_speeds, odometry_poses, trajectory.states(), Kp)"
   ]
  },
  {
   "cell_type": "code",
   "execution_count": 10,
   "metadata": {},
   "outputs": [
    {
     "name": "stdout",
     "output_type": "stream",
     "text": [
      "trajectory time = 6.27 sec\n",
      "translation_error_max = 0.0813 meters\n",
      "translation_error_max position: x = 1.96 meters, y = -0.979 meters\n",
      "x_fb_max = -0.43 meters/sec\n",
      "y_fb_max = 0.695 meters/sec\n"
     ]
    }
   ],
   "source": [
    "print(f\"trajectory time = {trajectory.totalTime():0.3} sec\")\n",
    "print(f\"translation_error_max = {controller.max_translation_error:0.3} meters\")\n",
    "print(\n",
    "    \"translation_error_max position:\"\n",
    "    f\" x = {controller.translation_error_max_pos.x:0.3} meters,\"\n",
    "    f\" y = {controller.translation_error_max_pos.y:0.3} meters\"\n",
    ")\n",
    "print(f\"x_fb_max = {controller.x_fb_max:0.3} meters/sec\")\n",
    "print(f\"y_fb_max = {controller.y_fb_max:0.3} meters/sec\")"
   ]
  },
  {
   "cell_type": "code",
   "execution_count": null,
   "metadata": {},
   "outputs": [],
   "source": []
  }
 ],
 "metadata": {
  "kernelspec": {
   "display_name": "Python 3",
   "language": "python",
   "name": "python3"
  },
  "language_info": {
   "codemirror_mode": {
    "name": "ipython",
    "version": 3
   },
   "file_extension": ".py",
   "mimetype": "text/x-python",
   "name": "python",
   "nbconvert_exporter": "python",
   "pygments_lexer": "ipython3",
   "version": "3.9.4"
  }
 },
 "nbformat": 4,
 "nbformat_minor": 2
}
