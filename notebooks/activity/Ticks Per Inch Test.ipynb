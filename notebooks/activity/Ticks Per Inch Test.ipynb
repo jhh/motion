{
 "cells": [
  {
   "cell_type": "markdown",
   "metadata": {},
   "source": [
    "# Ticks Per Inch with Test Data"
   ]
  },
  {
   "cell_type": "code",
   "execution_count": null,
   "metadata": {},
   "outputs": [],
   "source": [
    "import psycopg2 as pg\n",
    "import pandas as pd\n",
    "%matplotlib notebook"
   ]
  },
  {
   "cell_type": "code",
   "execution_count": null,
   "metadata": {},
   "outputs": [],
   "source": [
    "connection = pg.connect(\"dbname=jeff user=jeff\")"
   ]
  },
  {
   "cell_type": "code",
   "execution_count": null,
   "metadata": {},
   "outputs": [],
   "source": [
    "query = \"\"\"\n",
    "SELECT id, name, timestamp, CAST(meta->>'direction' AS real) AS direction,\n",
    "meta->>'robot' AS robot, meta->>'wheel' AS wheel\n",
    "FROM tc_activity\n",
    "\"\"\"\n",
    "\n",
    "activity_info = pd.read_sql(query, index_col='id', con=connection)\n"
   ]
  },
  {
   "cell_type": "code",
   "execution_count": null,
   "metadata": {},
   "outputs": [],
   "source": [
    "query = \"\"\"\n",
    "SELECT id, name, timestamp, measure, value\n",
    "FROM tc_activity, unnest(activity_measures, data) AS u(measure, value);\n",
    "\"\"\"\n",
    "\n",
    "activity_data = pd.read_sql(query, con=connection)\n"
   ]
  },
  {
   "cell_type": "code",
   "execution_count": null,
   "metadata": {},
   "outputs": [],
   "source": [
    "pivot = activity_data.pivot(index='id', columns='measure', values='value')\n",
    "activity = pd.merge(activity_info, pivot, on='id')\n",
    "activity['tpi'] = activity['actual_ticks'] / activity['actual_distance']\n",
    "activity.groupby('direction').size()"
   ]
  },
  {
   "cell_type": "code",
   "execution_count": null,
   "metadata": {},
   "outputs": [],
   "source": [
    "activity.loc[activity['actual_distance'] != 0].boxplot(column='tpi', by=['name', 'direction'],\n",
    "                                                       rot=15, figsize=(7.5, 5))"
   ]
  },
  {
   "cell_type": "code",
   "execution_count": null,
   "metadata": {},
   "outputs": [],
   "source": [
    "activity.loc[activity['direction'] == 180]['actual_distance']"
   ]
  },
  {
   "cell_type": "code",
   "execution_count": null,
   "metadata": {},
   "outputs": [],
   "source": []
  }
 ],
 "metadata": {
  "kernelspec": {
   "display_name": "Python 3",
   "language": "python",
   "name": "python3"
  },
  "language_info": {
   "codemirror_mode": {
    "name": "ipython",
    "version": 3
   },
   "file_extension": ".py",
   "mimetype": "text/x-python",
   "name": "python",
   "nbconvert_exporter": "python",
   "pygments_lexer": "ipython3",
   "version": "3.7.0"
  }
 },
 "nbformat": 4,
 "nbformat_minor": 2
}
