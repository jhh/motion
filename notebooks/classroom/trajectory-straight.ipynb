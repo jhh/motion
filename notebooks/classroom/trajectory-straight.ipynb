{
 "cells": [
  {
   "cell_type": "code",
   "execution_count": 1,
   "id": "fd745e19",
   "metadata": {},
   "outputs": [],
   "source": [
    "%matplotlib inline\n",
    "from wpimath.trajectory import TrajectoryConfig, TrajectoryGenerator\n",
    "from wpimath.trajectory.constraint import CentripetalAccelerationConstraint\n",
    "from wpimath.geometry import Pose2d, Rotation2d, Translation2d\n",
    "import matplotlib.pyplot as plt"
   ]
  },
  {
   "cell_type": "code",
   "execution_count": 2,
   "id": "4c9b7e23",
   "metadata": {},
   "outputs": [],
   "source": [
    "config = TrajectoryConfig(maxVelocity=1, maxAcceleration=2)\n",
    "\n",
    "initial_pose = Pose2d(x=0, y=0, rotation=Rotation2d(0))\n",
    "waypoints = [Translation2d(x=1, y=0)]\n",
    "final_pose = Pose2d(x=2, y=0, rotation=Rotation2d(0))"
   ]
  },
  {
   "cell_type": "code",
   "execution_count": 3,
   "id": "4ab9daee",
   "metadata": {},
   "outputs": [],
   "source": [
    "trajectory = TrajectoryGenerator.generateTrajectory(\n",
    "    start=initial_pose,\n",
    "    interiorWaypoints=waypoints,\n",
    "    end=final_pose,\n",
    "    config=config\n",
    "    )\n",
    "\n",
    "x = [state.pose.translation().x for state in trajectory.states()]\n",
    "y = [state.pose.translation().y for state in trajectory.states()]\n",
    "velocity = [state.velocity for state in trajectory.states()]\n",
    "acceleration = [state.acceleration for state in trajectory.states()]\n",
    "time = [state.t for state in trajectory.states()]"
   ]
  },
  {
   "cell_type": "code",
   "execution_count": 4,
   "id": "b8241e29",
   "metadata": {},
   "outputs": [
    {
     "data": {
      "image/png": "[encoded data removed]",
      "text/plain": [
       "<Figure size 432x288 with 1 Axes>"
      ]
     },
     "metadata": {
      "needs_background": "light"
     },
     "output_type": "display_data"
    }
   ],
   "source": [
    "plt.scatter(x, y)\n",
    "plt.show()"
   ]
  },
  {
   "cell_type": "code",
   "execution_count": 5,
   "id": "e3d5c8bb",
   "metadata": {},
   "outputs": [
    {
     "data": {
      "text/plain": [
       "0.123"
      ]
     },
     "execution_count": 5,
     "metadata": {},
     "output_type": "execute_result"
    }
   ],
   "source": [
    "state = trajectory.sample()\n",
    "state.t"
   ]
  }
 ],
 "metadata": {
  "kernelspec": {
   "display_name": "Python 3",
   "language": "python",
   "name": "python3"
  },
  "language_info": {
   "codemirror_mode": {
    "name": "ipython",
    "version": 3
   },
   "file_extension": ".py",
   "mimetype": "text/x-python",
   "name": "python",
   "nbconvert_exporter": "python",
   "pygments_lexer": "ipython3",
   "version": "3.9.4"
  }
 },
 "nbformat": 4,
 "nbformat_minor": 5
}
