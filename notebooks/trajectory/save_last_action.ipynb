{
 "metadata": {
  "language_info": {
   "codemirror_mode": {
    "name": "ipython",
    "version": 3
   },
   "file_extension": ".py",
   "mimetype": "text/x-python",
   "name": "python",
   "nbconvert_exporter": "python",
   "pygments_lexer": "ipython3",
   "version": "3.9.4"
  },
  "orig_nbformat": 2,
  "kernelspec": {
   "name": "python394jvsc74a57bd0221d11203f0aac0fde7387cc1b53749461adba023a7067f3d4c0b6e8ddeeb650",
   "display_name": "Python 3.9.4 64-bit ('motion-9oQWEAcl-py3.9': venv)"
  }
 },
 "nbformat": 4,
 "nbformat_minor": 2,
 "cells": [
  {
   "cell_type": "code",
   "execution_count": 6,
   "metadata": {},
   "outputs": [],
   "source": [
    "from keeper import Action"
   ]
  },
  {
   "cell_type": "code",
   "execution_count": 7,
   "metadata": {},
   "outputs": [
    {
     "output_type": "stream",
     "name": "stdout",
     "text": [
      "Action:    Trajectory Testing (id: 2)\nDescription: 2.0m x-direction trajectory\nVersion:     a30f0b6\nCreated At:  2021-05-07 11:00\n"
     ]
    }
   ],
   "source": [
    "url = \"http://192.168.3.3:3003/last_action/\"\n",
    "action = Action(url=url)\n",
    "action.dump()\n",
    "print(f\"Action:    {action.name} (id: {action.id})\")\n",
    "print(f\"Description: {action.description}\")\n",
    "print(f\"Version:     {action.version}\")\n",
    "print(f\"Created At:  {action.created_at_str()}\")"
   ]
  },
  {
   "source": [
    "- `2021-05-07-10-52.pickle` 2.0m straight, controllers on\n",
    "- `data/2021-05-07-11-00.pickle` same, controllers off"
   ],
   "cell_type": "markdown",
   "metadata": {}
  }
 ]
}