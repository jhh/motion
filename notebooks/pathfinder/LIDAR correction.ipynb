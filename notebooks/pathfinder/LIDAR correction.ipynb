{
 "cells": [
  {
   "cell_type": "markdown",
   "metadata": {},
   "source": [
    "# Calculate LIDAR slope and offset correction\n",
    "\n",
    "1. Measure detected and actual distance at 2 points.\n",
    "2. Plug into variables below and calculate worksheet.\n",
    "3. There is no step 3."
   ]
  },
  {
   "cell_type": "code",
   "execution_count": null,
   "metadata": {},
   "outputs": [],
   "source": [
    "# point 1\n",
    "measure_1 = 14\n",
    "actual_1  = 20\n",
    "\n",
    "# point 2\n",
    "measure_2 = 74\n",
    "actual_2  = 80"
   ]
  },
  {
   "cell_type": "code",
   "execution_count": null,
   "metadata": {},
   "outputs": [],
   "source": [
    "m = (actual_2 - actual_1) / (measure_2 - measure_1)\n",
    "b = actual_1 - m*measure_1\n",
    "\n",
    "println(\"m = $m\")\n",
    "println(\"b = $b\")\n",
    "\n",
    "f(x) = m*x + b;"
   ]
  },
  {
   "cell_type": "code",
   "execution_count": null,
   "metadata": {},
   "outputs": [],
   "source": [
    "f(10)"
   ]
  },
  {
   "cell_type": "code",
   "execution_count": null,
   "metadata": {},
   "outputs": [],
   "source": [
    "using Plots\n",
    "plot(f)"
   ]
  },
  {
   "cell_type": "code",
   "execution_count": null,
   "metadata": {},
   "outputs": [],
   "source": []
  }
 ],
 "metadata": {
  "kernelspec": {
   "display_name": "Julia 0.6.2",
   "language": "julia",
   "name": "julia-0.6"
  },
  "language_info": {
   "file_extension": ".jl",
   "mimetype": "application/julia",
   "name": "julia",
   "version": "0.6.2"
  }
 },
 "nbformat": 4,
 "nbformat_minor": 2
}
