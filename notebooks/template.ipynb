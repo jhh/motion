{
 "cells": [
  {
   "cell_type": "code",
   "execution_count": null,
   "id": "daa74ca4",
   "metadata": {},
   "outputs": [],
   "source": [
    "name = \"Jeff\"\n",
    "print(f\"Hello, {name}\")"
   ]
  }
 ],
 "metadata": {},
 "nbformat": 4,
 "nbformat_minor": 5
}
