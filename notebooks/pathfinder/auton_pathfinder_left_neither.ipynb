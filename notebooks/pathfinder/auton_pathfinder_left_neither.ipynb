{
 "cells": [
  {
   "cell_type": "code",
   "execution_count": null,
   "metadata": {},
   "outputs": [],
   "source": [
    "import pandas as pd\n",
    "import numpy as np\n",
    "import toml\n",
    "import matplotlib.pyplot as plt\n",
    "%matplotlib inline"
   ]
  },
  {
   "cell_type": "code",
   "execution_count": null,
   "metadata": {},
   "outputs": [],
   "source": [
    "toml_str = \"\"\"\n",
    "# left neither\n",
    "waypoints = [\n",
    "  {x = 0.0, y = 0.0, angle = 0.0},\n",
    "  {x = 4.6, y = 0.0, angle = 0.0},\n",
    "  {x = 5.5, y = -1.2, angle = -90.0},\n",
    "  {x = 5.5, y = -3.85, angle = -90.0},\n",
    "]\n",
    "\n",
    "fit              = \"HERMITE_CUBIC\"\n",
    "sample_count     = 20_000\n",
    "dt               = 0.050    # sec\n",
    "max_velocity     = 1.5   # m/sec\n",
    "max_acceleration = 1.5  # m/sec/sec\n",
    "max_jerk         = 60.0  # m/sec/sec/sec\n",
    "\"\"\""
   ]
  },
  {
   "cell_type": "code",
   "execution_count": null,
   "metadata": {},
   "outputs": [],
   "source": [
    "trajectory_name = \"auton_pathfinder_left_neither\"\n",
    "# import trajectory\n",
    "# trajectory.build(toml_str, trajectory_name)\n",
    "\n",
    "df = pd.read_csv(\"data/%s.csv\" % trajectory_name)\n",
    "path = toml.loads(toml_str)\n",
    "wp = pd.DataFrame(path['waypoints'])"
   ]
  },
  {
   "cell_type": "code",
   "execution_count": null,
   "metadata": {},
   "outputs": [],
   "source": [
    "ax = df.plot.scatter('x', 'y', figsize = [10, 6])\n",
    "wp.plot.scatter('x', 'y', c='r', ax=ax)\n",
    "ax.axis('equal')\n",
    "plt.grid(True, color='lightgray', linestyle='--', linewidth=0.6)"
   ]
  },
  {
   "cell_type": "code",
   "execution_count": null,
   "metadata": {},
   "outputs": [],
   "source": []
  }
 ],
 "metadata": {
  "kernelspec": {
   "display_name": "Python 3",
   "language": "python",
   "name": "python3"
  },
  "language_info": {
   "codemirror_mode": {
    "name": "ipython",
    "version": 3
   },
   "file_extension": ".py",
   "mimetype": "text/x-python",
   "name": "python",
   "nbconvert_exporter": "python",
   "pygments_lexer": "ipython3",
   "version": "3.7.1"
  }
 },
 "nbformat": 4,
 "nbformat_minor": 2
}
