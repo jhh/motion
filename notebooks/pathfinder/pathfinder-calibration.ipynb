{
 "cells": [
  {
   "cell_type": "markdown",
   "metadata": {},
   "source": [
    "# Swerve Drive Auton Distance Calibration\n",
    "\n",
    "27 Jan 2018\n",
    "\n",
    "Stryke Force students conducted an experiment to determine the effect of compliance at the wheel to surface interface on effective wheel circumference.\n",
    "\n",
    "One inch of travel along the circumference of a wheel will subtend a larger angle (represented by encoder ticks) when the effective radius is smaller. This would lead us to expect larger ticks/inch for more compliant surfaces.\n",
    "\n",
    "The nominal tick/in from axis setup Excel is 1983.65 ticks/in.\n",
    "\n",
    "## Protocol\n",
    "\n",
    "### Surfaces Tested\n",
    "\n",
    "   - Carpet, north to south\n",
    "   - Carpet, east to west\n",
    "   - Hard concrete, floor next to field\n",
    "\n",
    "### Procedure\n",
    "\n",
    "Runs are made in the same direction, with the same starting point.\n",
    "\n",
    "1. Open the Grapher program, select **Selected Sensor Position** to measure encoder on each drive motor\n",
    "2. Place all four motor variables on the same y-axis in the Grapher\n",
    "3. Place the robot in a known position with an appropriate space in front of it (against a wall/barrier, something that won't move)\n",
    "4. Ensure the robot drives straight\n",
    "5. Record the initial Selective Sensor Position in a column spreadsheet program for each motor (WARNING: Make sure the Grapher can display the appropriate number of digits in the text boxes containing the Selective Sensor Position.  You may have to zero-out the encoder and/or reduce displacement in trials to ensure they fit on the display)\n",
    "6. Select an appropriate duration and velocity for the robot, then (respecting safety procedures) allow the robot to move forward as such\n",
    "7. Record the final Selective Sensor Position in a different set of columns in the spreadsheet for each motor.  DO NOT MOVE THE ROBOT UNTIL VALUES ARE TAKEN/FROZEN IN GRAPHER\n",
    "8. Mark the position of the robot on the floor (we used tape) such that the marker represents the distance traveled by the robot\n",
    "9. Measure the distance traveled by the robot (we measured in inches, you may want to use metric to facilitate entering it into the spreadsheet).\n",
    "10. Record in spreadsheet"
   ]
  },
  {
   "cell_type": "code",
   "execution_count": null,
   "metadata": {},
   "outputs": [],
   "source": [
    "import pandas as pd\n",
    "import matplotlib.pyplot as plt\n",
    "%matplotlib inline"
   ]
  },
  {
   "cell_type": "code",
   "execution_count": null,
   "metadata": {},
   "outputs": [],
   "source": [
    "df = pd.read_csv(\"data/pathfinder_calibration/180127_distance.csv\")\n",
    "df['ticks_per_in'] = (df['end'] - df['start']) / df['distance']"
   ]
  },
  {
   "cell_type": "markdown",
   "metadata": {},
   "source": [
    "## Results\n",
    "### Overall"
   ]
  },
  {
   "cell_type": "code",
   "execution_count": null,
   "metadata": {},
   "outputs": [],
   "source": [
    "df['ticks_per_in'].describe()"
   ]
  },
  {
   "cell_type": "markdown",
   "metadata": {},
   "source": [
    "### ticks/inch by surface\n",
    "\n",
    "- `carpet-x` = carpet, west to east on northwest end of practice field\n",
    "- `carpet-y` = carpet, north to south on northwest end of practice field\n",
    "- `concrete` = west to east on floor south of practice field"
   ]
  },
  {
   "cell_type": "code",
   "execution_count": null,
   "metadata": {},
   "outputs": [],
   "source": [
    "df.loc[:, ['surface', 'ticks_per_in']].pivot(columns='surface', values='ticks_per_in').boxplot()"
   ]
  },
  {
   "cell_type": "code",
   "execution_count": null,
   "metadata": {},
   "outputs": [],
   "source": [
    "df.loc[:, ['surface', 'ticks_per_in']].pivot(columns='surface', values='ticks_per_in').describe()"
   ]
  },
  {
   "cell_type": "code",
   "execution_count": null,
   "metadata": {},
   "outputs": [],
   "source": [
    "fig, ax = plt.subplots(nrows=1, ncols=3,sharey=True)\n",
    "fig.set_size_inches(12, 6)\n",
    "fig.suptitle(\"ticks/in by encoder\")\n",
    "df.loc[df['surface'] == 'carpet-x', ['encoder', 'ticks_per_in']].pivot(columns='encoder', values='ticks_per_in').boxplot(ax=ax[0])\n",
    "ax[0].set_title(\"W-E Carpet\")\n",
    "df.loc[df['surface'] == 'carpet-y', ['encoder', 'ticks_per_in']].pivot(columns='encoder', values='ticks_per_in').boxplot(ax=ax[1])\n",
    "ax[1].set_title(\"N-S Carpet\")\n",
    "df.loc[df['surface'] == 'concrete', ['encoder', 'ticks_per_in']].pivot(columns='encoder', values='ticks_per_in').boxplot(ax=ax[2])\n",
    "ax[2].set_title(\"Concrete\")"
   ]
  },
  {
   "cell_type": "markdown",
   "metadata": {},
   "source": [
    "### ticks/inch on carpet from west to east (`carpet-x`), by encoder"
   ]
  },
  {
   "cell_type": "code",
   "execution_count": null,
   "metadata": {},
   "outputs": [],
   "source": [
    "df.loc[df['surface'] == 'carpet-x', ['encoder', 'ticks_per_in']].pivot(columns='encoder', values='ticks_per_in').boxplot()"
   ]
  },
  {
   "cell_type": "code",
   "execution_count": null,
   "metadata": {},
   "outputs": [],
   "source": [
    "df.loc[df['surface'] == 'carpet-x', ['encoder', 'ticks_per_in']].pivot(columns='encoder', values='ticks_per_in').describe()"
   ]
  },
  {
   "cell_type": "markdown",
   "metadata": {},
   "source": [
    "### ticks/inch on carpet from north to south carpet (`carpet-y`), by encoder"
   ]
  },
  {
   "cell_type": "code",
   "execution_count": null,
   "metadata": {},
   "outputs": [],
   "source": [
    "df.loc[df['surface'] == 'carpet-y', ['encoder', 'ticks_per_in']].pivot(columns='encoder', values='ticks_per_in').boxplot()"
   ]
  },
  {
   "cell_type": "code",
   "execution_count": null,
   "metadata": {},
   "outputs": [],
   "source": [
    "df.loc[df['surface'] == 'carpet-y', ['encoder', 'ticks_per_in']].pivot(columns='encoder', values='ticks_per_in').describe()"
   ]
  },
  {
   "cell_type": "markdown",
   "metadata": {},
   "source": [
    "### ticks/inch on concrete (`concrete`), by encoder"
   ]
  },
  {
   "cell_type": "code",
   "execution_count": null,
   "metadata": {},
   "outputs": [],
   "source": [
    "df.loc[df['surface'] == 'concrete', ['encoder', 'ticks_per_in']].pivot(columns='encoder', values='ticks_per_in').boxplot()"
   ]
  },
  {
   "cell_type": "code",
   "execution_count": null,
   "metadata": {},
   "outputs": [],
   "source": [
    "df.loc[df['surface'] == 'concrete', ['encoder', 'ticks_per_in']].pivot(columns='encoder', values='ticks_per_in').describe()"
   ]
  },
  {
   "cell_type": "code",
   "execution_count": null,
   "metadata": {},
   "outputs": [],
   "source": []
  },
  {
   "cell_type": "code",
   "execution_count": null,
   "metadata": {},
   "outputs": [],
   "source": []
  }
 ],
 "metadata": {
  "kernelspec": {
   "display_name": "Python 3",
   "language": "python",
   "name": "python3"
  },
  "language_info": {
   "codemirror_mode": {
    "name": "ipython",
    "version": 3
   },
   "file_extension": ".py",
   "mimetype": "text/x-python",
   "name": "python",
   "nbconvert_exporter": "python",
   "pygments_lexer": "ipython3",
   "version": "3.6.4"
  }
 },
 "nbformat": 4,
 "nbformat_minor": 2
}
